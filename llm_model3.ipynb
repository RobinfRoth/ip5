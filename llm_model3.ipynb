{
  "metadata": {
    "kernelspec": {
      "language": "python",
      "display_name": "Python 3",
      "name": "python3"
    },
    "language_info": {
      "name": "python",
      "version": "3.10.14",
      "mimetype": "text/x-python",
      "codemirror_mode": {
        "name": "ipython",
        "version": 3
      },
      "pygments_lexer": "ipython3",
      "nbconvert_exporter": "python",
      "file_extension": ".py"
    },
    "kaggle": {
      "accelerator": "none",
      "dataSources": [
        {
          "sourceId": 10099398,
          "sourceType": "datasetVersion",
          "datasetId": 6228861
        },
        {
          "sourceId": 10099727,
          "sourceType": "datasetVersion",
          "datasetId": 6229123
        },
        {
          "sourceId": 10272431,
          "sourceType": "datasetVersion",
          "datasetId": 6258666
        },
        {
          "sourceId": 120005,
          "sourceType": "modelInstanceVersion",
          "modelInstanceId": 100936,
          "modelId": 121027
        }
      ],
      "dockerImageVersionId": 30805,
      "isInternetEnabled": true,
      "language": "python",
      "sourceType": "notebook",
      "isGpuEnabled": false
    },
    "colab": {
      "name": "llm_model3",
      "provenance": [],
      "include_colab_link": true
    }
  },
  "nbformat_minor": 0,
  "nbformat": 4,
  "cells": [
    {
      "cell_type": "markdown",
      "metadata": {
        "id": "view-in-github",
        "colab_type": "text"
      },
      "source": [
        "<a href=\"https://colab.research.google.com/github/RobinfRoth/ip5/blob/main/llm_model3.ipynb\" target=\"_parent\"><img src=\"https://colab.research.google.com/assets/colab-badge.svg\" alt=\"Open In Colab\"/></a>"
      ]
    },
    {
      "source": [
        "# IMPORTANT: SOME KAGGLE DATA SOURCES ARE PRIVATE\n",
        "# RUN THIS CELL IN ORDER TO IMPORT YOUR KAGGLE DATA SOURCES.\n",
        "import kagglehub\n",
        "kagglehub.login()\n"
      ],
      "metadata": {
        "id": "_rSdTnt2KNLH"
      },
      "cell_type": "code",
      "outputs": [],
      "execution_count": null
    },
    {
      "source": [
        "# IMPORTANT: RUN THIS CELL IN ORDER TO IMPORT YOUR KAGGLE DATA SOURCES,\n",
        "# THEN FEEL FREE TO DELETE THIS CELL.\n",
        "# NOTE: THIS NOTEBOOK ENVIRONMENT DIFFERS FROM KAGGLE'S PYTHON\n",
        "# ENVIRONMENT SO THERE MAY BE MISSING LIBRARIES USED BY YOUR\n",
        "# NOTEBOOK.\n",
        "\n",
        "ajshaseewer_raw_dataset_path = kagglehub.dataset_download('ajshaseewer/raw-dataset')\n",
        "ajshaseewer_challenge_description_path = kagglehub.dataset_download('ajshaseewer/challenge-description')\n",
        "robinroth_finetuned_llm_one_word_prediction_path = kagglehub.dataset_download('robinroth/finetuned-llm-one-word-prediction')\n",
        "metaresearch_llama_3_2_transformers_3b_instruct_1_path = kagglehub.model_download('metaresearch/llama-3.2/Transformers/3b-instruct/1')\n",
        "\n",
        "print('Data source import complete.')\n"
      ],
      "metadata": {
        "id": "-uYfbdfRKNLK"
      },
      "cell_type": "code",
      "outputs": [],
      "execution_count": null
    },
    {
      "cell_type": "markdown",
      "source": [
        "# Model 3 - Finetune LLAMA using Lora and a Classification Head"
      ],
      "metadata": {
        "id": "6xSOmT8GKNLL"
      }
    },
    {
      "cell_type": "markdown",
      "source": [
        "## 1. Setup"
      ],
      "metadata": {
        "id": "TaVl9mTpKNLM"
      }
    },
    {
      "cell_type": "code",
      "source": [
        "%%capture\n",
        "%pip install -U transformers==4.45.2\n",
        "%pip install -U datasets\n",
        "%pip install -U accelerate\n",
        "%pip install -U peft\n",
        "%pip install -U trl\n",
        "%pip install -U bitsandbytes\n",
        "%pip install -U wandb\n",
        "%pip install -U scikit-learn\n",
        "%pip install -U evaluate"
      ],
      "metadata": {
        "_uuid": "8f2839f25d086af736a60e9eeb907d3b93b6e0e5",
        "_cell_guid": "b1076dfc-b9ad-4769-8c92-a6c4dae69d19",
        "trusted": true,
        "execution": {
          "iopub.status.busy": "2025-01-08T17:24:51.537431Z",
          "iopub.execute_input": "2025-01-08T17:24:51.538241Z",
          "iopub.status.idle": "2025-01-08T17:26:49.250085Z",
          "shell.execute_reply.started": "2025-01-08T17:24:51.538197Z",
          "shell.execute_reply": "2025-01-08T17:26:49.248993Z"
        },
        "id": "obX9pR8mKNLM"
      },
      "outputs": [],
      "execution_count": null
    },
    {
      "cell_type": "code",
      "source": [
        "import os\n",
        "import evaluate\n",
        "import numpy as np\n",
        "import pandas as pd\n",
        "from sklearn.model_selection import train_test_split\n",
        "from sklearn.preprocessing import LabelEncoder\n",
        "from matplotlib import pyplot as plt\n",
        "\n",
        "TRAIN_MODEL = True\n",
        "os.environ[\"PYTORCH_CUDA_ALLOC_CONF\"] = \"expandable_segments:True\""
      ],
      "metadata": {
        "trusted": true,
        "execution": {
          "iopub.status.busy": "2025-01-08T17:26:49.252085Z",
          "iopub.execute_input": "2025-01-08T17:26:49.252386Z",
          "iopub.status.idle": "2025-01-08T17:27:07.071908Z",
          "shell.execute_reply.started": "2025-01-08T17:26:49.252359Z",
          "shell.execute_reply": "2025-01-08T17:27:07.071223Z"
        },
        "id": "lfsNJbd7KNLM"
      },
      "outputs": [],
      "execution_count": null
    },
    {
      "cell_type": "code",
      "source": [
        "from transformers import (\n",
        "    AutoModelForSequenceClassification,\n",
        "    AutoModelForCausalLM,\n",
        "    AutoTokenizer,\n",
        "    BitsAndBytesConfig,\n",
        "    HfArgumentParser,\n",
        "    TrainingArguments,\n",
        "    Trainer,\n",
        "    pipeline,\n",
        "    logging,\n",
        "    EarlyStoppingCallback,\n",
        "    DataCollatorWithPadding,\n",
        ")\n",
        "from peft import (\n",
        "    LoraConfig,\n",
        "    PeftModel,\n",
        "    prepare_model_for_kbit_training,\n",
        "    get_peft_model,\n",
        ")\n",
        "import os, torch, wandb, json\n",
        "from datasets import load_dataset\n",
        "from datasets import Dataset\n",
        "from trl import SFTTrainer, setup_chat_format, SFTConfig"
      ],
      "metadata": {
        "trusted": true,
        "execution": {
          "iopub.status.busy": "2025-01-08T17:27:07.077085Z",
          "iopub.execute_input": "2025-01-08T17:27:07.077682Z",
          "iopub.status.idle": "2025-01-08T17:27:09.061424Z",
          "shell.execute_reply.started": "2025-01-08T17:27:07.077642Z",
          "shell.execute_reply": "2025-01-08T17:27:09.060716Z"
        },
        "id": "7ZANN1oLKNLN"
      },
      "outputs": [],
      "execution_count": null
    },
    {
      "cell_type": "code",
      "source": [
        "from huggingface_hub import login\n",
        "from kaggle_secrets import UserSecretsClient\n",
        "user_secrets = UserSecretsClient()\n",
        "hf_token = user_secrets.get_secret(\"HUGGINFACE_TOKEN\")\n",
        "login(token = hf_token)"
      ],
      "metadata": {
        "trusted": true,
        "execution": {
          "iopub.status.busy": "2025-01-08T17:27:09.062459Z",
          "iopub.execute_input": "2025-01-08T17:27:09.06272Z",
          "iopub.status.idle": "2025-01-08T17:27:09.373792Z",
          "shell.execute_reply.started": "2025-01-08T17:27:09.062694Z",
          "shell.execute_reply": "2025-01-08T17:27:09.372861Z"
        },
        "id": "nvFd5wGaKNLN"
      },
      "outputs": [],
      "execution_count": null
    },
    {
      "cell_type": "code",
      "source": [
        "wb_token = user_secrets.get_secret(\"wandb\")\n",
        "\n",
        "wandb.login(key=wb_token)\n",
        "run = wandb.init(\n",
        "    project='Fine-tune Llama 3.2 on Student Programming Projects',\n",
        "    job_type=\"training\",\n",
        "    anonymous=\"allow\"\n",
        ")"
      ],
      "metadata": {
        "trusted": true,
        "execution": {
          "iopub.status.busy": "2025-01-08T17:27:09.374872Z",
          "iopub.execute_input": "2025-01-08T17:27:09.375177Z",
          "iopub.status.idle": "2025-01-08T17:27:13.137634Z",
          "shell.execute_reply.started": "2025-01-08T17:27:09.375151Z",
          "shell.execute_reply": "2025-01-08T17:27:13.136619Z"
        },
        "id": "_YIvHpU-KNLO"
      },
      "outputs": [],
      "execution_count": null
    },
    {
      "cell_type": "code",
      "source": [
        "base_model = \"/kaggle/input/llama-3.2/transformers/3b-instruct/1\"\n",
        "results_path = \"results\"\n",
        "new_model = \"llama-3.2-3b-it-programming-projects-V7\"\n",
        "\n",
        "challenge_description = pd.read_csv(\"/kaggle/input/challenge-description/Frogger.csv\")\n",
        "challenge_dict = { k:v for k, v in zip(challenge_description.to_dict()[\"Challenge Name\"].values(),\n",
        "                                       challenge_description.to_dict()[\"Challenge description\"].values()) }\n",
        "label_names = list(challenge_dict.keys())\n",
        "classes = [ c for c in label_names ]\n",
        "class2id = { c:id for id, c in enumerate(classes) }\n",
        "id2class = { id:c for c, id in class2id.items() }"
      ],
      "metadata": {
        "trusted": true,
        "execution": {
          "iopub.status.busy": "2025-01-08T17:27:13.138788Z",
          "iopub.execute_input": "2025-01-08T17:27:13.139056Z",
          "iopub.status.idle": "2025-01-08T17:27:13.163851Z",
          "shell.execute_reply.started": "2025-01-08T17:27:13.13903Z",
          "shell.execute_reply": "2025-01-08T17:27:13.163029Z"
        },
        "id": "S0tR-fN1KNLO"
      },
      "outputs": [],
      "execution_count": null
    },
    {
      "cell_type": "markdown",
      "source": [
        "## 2. Loading the model, tokenizer and define metrics"
      ],
      "metadata": {
        "id": "DGitYTunKNLP"
      }
    },
    {
      "cell_type": "code",
      "source": [
        "# QLoRA config\n",
        "bnb_config = BitsAndBytesConfig(\n",
        "    load_in_4bit=True,\n",
        "    bnb_4bit_quant_type=\"nf4\",\n",
        "    bnb_4bit_compute_dtype=torch.bfloat16,\n",
        "    bnb_4bit_use_double_quant=True,\n",
        ")\n",
        "# Load model\n",
        "model = AutoModelForSequenceClassification.from_pretrained(\n",
        "    base_model,\n",
        "    quantization_config=bnb_config,\n",
        "    device_map=\"auto\",\n",
        "    torch_dtype=torch.bfloat16,\n",
        "    return_dict=True,\n",
        "    num_labels=len(classes),\n",
        "    id2label=id2class,\n",
        "    label2id=class2id,\n",
        "    problem_type=\"multi_label_classification\",\n",
        ")\n",
        "\n",
        "# Load tokenizer\n",
        "tokenizer = AutoTokenizer.from_pretrained(base_model, trust_remote_code=True)\n",
        "\n",
        "# Prepare data collator\n",
        "data_collator = DataCollatorWithPadding(tokenizer=tokenizer)"
      ],
      "metadata": {
        "trusted": true,
        "execution": {
          "iopub.status.busy": "2025-01-08T17:27:13.165034Z",
          "iopub.execute_input": "2025-01-08T17:27:13.165491Z",
          "iopub.status.idle": "2025-01-08T17:28:02.990681Z",
          "shell.execute_reply.started": "2025-01-08T17:27:13.16543Z",
          "shell.execute_reply": "2025-01-08T17:28:02.989735Z"
        },
        "id": "vT7fpUn_KNLQ"
      },
      "outputs": [],
      "execution_count": null
    },
    {
      "cell_type": "code",
      "source": [
        "from sklearn.metrics import f1_score\n",
        "import torch\n",
        "\n",
        "def compute_metrics(eval_pred):\n",
        "    logits = eval_pred.predictions\n",
        "    labels = eval_pred.label_ids\n",
        "\n",
        "    sigmoid = torch.nn.Sigmoid()\n",
        "\n",
        "    predictions = sigmoid(torch.Tensor(logits))\n",
        "    y_pred = np.zeros(predictions.shape)\n",
        "    y_pred[np.where(predictions >= 0.5)] = 1\n",
        "\n",
        "    y_true = labels.astype(np.int32)\n",
        "\n",
        "    f1_micro = f1_score(y_true=y_true, y_pred=y_pred, average='micro')\n",
        "\n",
        "    return {'f1': f1_micro}"
      ],
      "metadata": {
        "trusted": true,
        "execution": {
          "iopub.status.busy": "2025-01-08T17:28:02.991935Z",
          "iopub.execute_input": "2025-01-08T17:28:02.992283Z",
          "iopub.status.idle": "2025-01-08T17:28:02.998377Z",
          "shell.execute_reply.started": "2025-01-08T17:28:02.992247Z",
          "shell.execute_reply": "2025-01-08T17:28:02.997377Z"
        },
        "id": "d1rJbUg5KNLQ"
      },
      "outputs": [],
      "execution_count": null
    },
    {
      "cell_type": "markdown",
      "source": [
        "## 3. Loading and processing of the dataset"
      ],
      "metadata": {
        "id": "9-tMty2FKNLQ"
      }
    },
    {
      "cell_type": "code",
      "source": [
        "def preprocess_labels(row):\n",
        "    row['labels'] =  row[label_names].astype(\"float\").to_list()\n",
        "    return row"
      ],
      "metadata": {
        "trusted": true,
        "execution": {
          "iopub.status.busy": "2025-01-08T17:28:03.001189Z",
          "iopub.execute_input": "2025-01-08T17:28:03.001448Z",
          "iopub.status.idle": "2025-01-08T17:28:03.013551Z",
          "shell.execute_reply.started": "2025-01-08T17:28:03.001423Z",
          "shell.execute_reply": "2025-01-08T17:28:03.012935Z"
        },
        "id": "ly8HIoaWKNLQ"
      },
      "outputs": [],
      "execution_count": null
    },
    {
      "cell_type": "code",
      "source": [
        "dataset_name = \"/kaggle/input/raw-dataset/raw_dataset.csv\"\n",
        "\n",
        "# Importing the dataset\n",
        "df = pd.read_csv(dataset_name)\n",
        "\n",
        "challenge_names = df.columns[7:].to_list()\n",
        "\n",
        "# remove floats from xml\n",
        "df[\"xml_code\"] = df[\"xml_code\"].str.replace(r\"[\\dD]+(\\.[\\dD]+)+\", \"\", regex=True)\n",
        "# replace file separator by a newline\n",
        "df[\"xml_code\"] = df[\"xml_code\"].str.replace(\"%\", \"\\n\")\n",
        "\n",
        "df = df.apply(preprocess_labels, axis=1)"
      ],
      "metadata": {
        "trusted": true,
        "execution": {
          "iopub.status.busy": "2025-01-08T17:28:03.014445Z",
          "iopub.execute_input": "2025-01-08T17:28:03.014699Z",
          "iopub.status.idle": "2025-01-08T17:28:03.525657Z",
          "shell.execute_reply.started": "2025-01-08T17:28:03.014672Z",
          "shell.execute_reply": "2025-01-08T17:28:03.524709Z"
        },
        "id": "2D6DD2IsKNLQ"
      },
      "outputs": [],
      "execution_count": null
    },
    {
      "cell_type": "markdown",
      "source": [
        "### Use a MultiLabel Classification Head"
      ],
      "metadata": {
        "id": "92KbH4tFKNLS"
      }
    },
    {
      "cell_type": "code",
      "source": [
        "def tokenize_data(example):\n",
        "    result = tokenizer(example[\"xml_code\"], truncation=True, max_length=1024)\n",
        "    result[\"labels\"] = example[\"labels\"]\n",
        "    return result"
      ],
      "metadata": {
        "trusted": true,
        "execution": {
          "iopub.status.busy": "2025-01-08T17:28:03.52677Z",
          "iopub.execute_input": "2025-01-08T17:28:03.527624Z",
          "iopub.status.idle": "2025-01-08T17:28:03.532178Z",
          "shell.execute_reply.started": "2025-01-08T17:28:03.527587Z",
          "shell.execute_reply": "2025-01-08T17:28:03.531366Z"
        },
        "id": "09C4i2goKNLS"
      },
      "outputs": [],
      "execution_count": null
    },
    {
      "cell_type": "code",
      "source": [
        "df_train, df_test = train_test_split(df, train_size=0.8, random_state=42)\n",
        "df_test, df_validation = train_test_split(df_test, train_size=0.4, random_state=42)\n",
        "\n",
        "ds_train = Dataset.from_pandas(df_train[[\"xml_code\", \"labels\"]])\n",
        "ds_test = Dataset.from_pandas(df_test[[\"xml_code\", \"labels\"]])\n",
        "ds_validation = Dataset.from_pandas(df_validation[[\"xml_code\", \"labels\"]])\n",
        "\n",
        "ds_train = ds_train.map(tokenize_data, batched=True, remove_columns=[\"xml_code\"])\n",
        "ds_test = ds_test.map(tokenize_data, batched=True, remove_columns=[\"xml_code\"])\n",
        "ds_validation = ds_validation.map(tokenize_data, batched=True, remove_columns=[\"xml_code\"])"
      ],
      "metadata": {
        "trusted": true,
        "execution": {
          "iopub.status.busy": "2025-01-08T17:28:03.533324Z",
          "iopub.execute_input": "2025-01-08T17:28:03.533838Z",
          "iopub.status.idle": "2025-01-08T17:28:04.917708Z",
          "shell.execute_reply.started": "2025-01-08T17:28:03.533797Z",
          "shell.execute_reply": "2025-01-08T17:28:04.916851Z"
        },
        "id": "W-UvAwTdKNLS"
      },
      "outputs": [],
      "execution_count": null
    },
    {
      "cell_type": "code",
      "source": [
        "# Sample of the set\n",
        "ds_train"
      ],
      "metadata": {
        "trusted": true,
        "execution": {
          "iopub.status.busy": "2025-01-08T17:28:04.918774Z",
          "iopub.execute_input": "2025-01-08T17:28:04.919042Z",
          "iopub.status.idle": "2025-01-08T17:28:04.92524Z",
          "shell.execute_reply.started": "2025-01-08T17:28:04.919016Z",
          "shell.execute_reply": "2025-01-08T17:28:04.924427Z"
        },
        "id": "35b6Hn2lKNLS"
      },
      "outputs": [],
      "execution_count": null
    },
    {
      "cell_type": "markdown",
      "source": [
        "## 4. Setting up The Model and Finetune it"
      ],
      "metadata": {
        "id": "yQgzo7-gKNLS"
      }
    },
    {
      "cell_type": "code",
      "source": [
        "import bitsandbytes as bnb\n",
        "\n",
        "def find_all_linear_names(model):\n",
        "    cls = bnb.nn.Linear4bit\n",
        "    lora_module_names = set()\n",
        "    for name, module in model.named_modules():\n",
        "        if isinstance(module, cls):\n",
        "            names = name.split('.')\n",
        "            lora_module_names.add(names[0] if len(names) == 1 else names[-1])\n",
        "    if 'lm_head' in lora_module_names:  # needed for 16 bit\n",
        "        lora_module_names.remove('lm_head')\n",
        "    return list(lora_module_names)\n",
        "\n",
        "modules = find_all_linear_names(model)"
      ],
      "metadata": {
        "trusted": true,
        "execution": {
          "iopub.status.busy": "2025-01-08T17:28:04.926362Z",
          "iopub.execute_input": "2025-01-08T17:28:04.926692Z",
          "iopub.status.idle": "2025-01-08T17:28:04.937986Z",
          "shell.execute_reply.started": "2025-01-08T17:28:04.926655Z",
          "shell.execute_reply": "2025-01-08T17:28:04.937176Z"
        },
        "id": "GwYTzk4GKNLS"
      },
      "outputs": [],
      "execution_count": null
    },
    {
      "cell_type": "code",
      "source": [
        "# LoRA config\n",
        "peft_config = LoraConfig(\n",
        "    r=8, # rank = how much of the models weights are adjusted\n",
        "    lora_alpha=32,\n",
        "    lora_dropout=0.2,\n",
        "    bias=\"none\",\n",
        "    task_type=\"SEQ_CLS\",\n",
        "    target_modules=[\"lm_head\", \"q_proj\", \"v_proj\"],  #modules,\n",
        ")\n",
        "\n",
        "model = get_peft_model(model, peft_config)\n",
        "model.print_trainable_parameters()\n",
        "\n",
        "# set pad_token_id\n",
        "tokenizer.pad_token = tokenizer.eos_token\n",
        "model.config.pad_token_id = tokenizer.pad_token_id"
      ],
      "metadata": {
        "trusted": true,
        "execution": {
          "iopub.status.busy": "2025-01-08T17:28:04.939137Z",
          "iopub.execute_input": "2025-01-08T17:28:04.939492Z",
          "iopub.status.idle": "2025-01-08T17:28:05.046194Z",
          "shell.execute_reply.started": "2025-01-08T17:28:04.939438Z",
          "shell.execute_reply": "2025-01-08T17:28:05.045372Z"
        },
        "id": "XhJNT5HrKNLT"
      },
      "outputs": [],
      "execution_count": null
    },
    {
      "cell_type": "code",
      "source": [
        "# Hyperparamters\n",
        "training_arguments = TrainingArguments(\n",
        "    output_dir=results_path,\n",
        "    per_device_train_batch_size=2,\n",
        "    per_device_eval_batch_size=4,\n",
        "    gradient_accumulation_steps=16,\n",
        "    optim=\"adamw_torch\",\n",
        "    lr_scheduler_type=\"linear\",\n",
        "    num_train_epochs=10,\n",
        "    eval_strategy=\"steps\",\n",
        "    save_strategy=\"steps\",\n",
        "    save_steps=5,\n",
        "    eval_accumulation_steps=1,\n",
        "    logging_steps=5,\n",
        "    warmup_steps=10,\n",
        "    logging_strategy=\"steps\",\n",
        "    learning_rate=2e-4,\n",
        "    group_by_length=True,\n",
        "    report_to=\"wandb\",\n",
        "    metric_for_best_model=\"f1\",\n",
        "    load_best_model_at_end=True,\n",
        ")"
      ],
      "metadata": {
        "trusted": true,
        "execution": {
          "iopub.status.busy": "2025-01-08T17:28:05.04712Z",
          "iopub.execute_input": "2025-01-08T17:28:05.047371Z",
          "iopub.status.idle": "2025-01-08T17:28:05.078293Z",
          "shell.execute_reply.started": "2025-01-08T17:28:05.047347Z",
          "shell.execute_reply": "2025-01-08T17:28:05.077361Z"
        },
        "id": "6h4ZOqGpKNLT"
      },
      "outputs": [],
      "execution_count": null
    },
    {
      "cell_type": "code",
      "source": [
        "# Setting parameters\n",
        "trainer = Trainer(\n",
        "    model=model,\n",
        "    train_dataset=ds_train,\n",
        "    eval_dataset=ds_validation,\n",
        "    processing_class=tokenizer,\n",
        "    args=training_arguments,\n",
        "    callbacks=[EarlyStoppingCallback(early_stopping_patience=5)],\n",
        "    data_collator=data_collator,\n",
        "    compute_metrics=compute_metrics,\n",
        ")"
      ],
      "metadata": {
        "trusted": true,
        "execution": {
          "iopub.status.busy": "2025-01-08T17:28:05.079493Z",
          "iopub.execute_input": "2025-01-08T17:28:05.080196Z",
          "iopub.status.idle": "2025-01-08T17:28:05.671986Z",
          "shell.execute_reply.started": "2025-01-08T17:28:05.080155Z",
          "shell.execute_reply": "2025-01-08T17:28:05.671064Z"
        },
        "id": "I118-DHfKNLT"
      },
      "outputs": [],
      "execution_count": null
    },
    {
      "cell_type": "code",
      "source": [
        "print(ds_validation[\"labels\"])"
      ],
      "metadata": {
        "trusted": true,
        "execution": {
          "iopub.status.busy": "2025-01-08T17:28:05.673277Z",
          "iopub.execute_input": "2025-01-08T17:28:05.673939Z",
          "iopub.status.idle": "2025-01-08T17:28:05.682783Z",
          "shell.execute_reply.started": "2025-01-08T17:28:05.673877Z",
          "shell.execute_reply": "2025-01-08T17:28:05.680291Z"
        },
        "id": "vd9eT__DKNLT"
      },
      "outputs": [],
      "execution_count": null
    },
    {
      "cell_type": "code",
      "source": [
        "if TRAIN_MODEL:\n",
        "    trainer.train()"
      ],
      "metadata": {
        "trusted": true,
        "execution": {
          "iopub.status.busy": "2025-01-08T17:28:05.684431Z",
          "iopub.execute_input": "2025-01-08T17:28:05.684828Z",
          "iopub.status.idle": "2025-01-08T18:56:11.179037Z",
          "shell.execute_reply.started": "2025-01-08T17:28:05.684778Z",
          "shell.execute_reply": "2025-01-08T18:56:11.178288Z"
        },
        "id": "HOJ_eqV1KNLT"
      },
      "outputs": [],
      "execution_count": null
    },
    {
      "cell_type": "code",
      "source": [
        "def plot_loss(training_loss: list[float], validation_loss: list[float]) -> None:\n",
        "    # Create subplots\n",
        "    fig, axes = plt.subplots(1, 2, figsize=(14, 6), sharey=True)\n",
        "\n",
        "    # training loss\n",
        "    axes[0].plot(range(0, len(training_loss)), training_loss, label='Training Loss', marker='o', color=\"blue\")\n",
        "    axes[0].set_xlabel('Iterations', fontsize=14)\n",
        "    axes[0].set_ylabel('Loss', fontsize=14)\n",
        "    axes[0].set_title('Loss Function During Training', fontsize=16)\n",
        "    axes[0].grid(True, linestyle='--', alpha=0.6)\n",
        "    axes[0].legend(fontsize=12)\n",
        "\n",
        "    # validation loss\n",
        "    axes[1].plot(range(0, len(validation_loss)), validation_loss, label='Validation Loss', marker='s', color=\"orange\")\n",
        "    axes[1].set_xlabel('Iterations', fontsize=14)\n",
        "    axes[1].set_title('Loss Function During Validation', fontsize=16)\n",
        "    axes[1].grid(True, linestyle='--', alpha=0.6)\n",
        "    axes[1].legend(fontsize=12)\n",
        "\n",
        "    # Show the plot\n",
        "    plt.tight_layout()\n",
        "    plt.show()"
      ],
      "metadata": {
        "trusted": true,
        "execution": {
          "iopub.status.busy": "2025-01-08T18:56:11.180063Z",
          "iopub.execute_input": "2025-01-08T18:56:11.180329Z",
          "iopub.status.idle": "2025-01-08T18:56:11.187755Z",
          "shell.execute_reply.started": "2025-01-08T18:56:11.180303Z",
          "shell.execute_reply": "2025-01-08T18:56:11.186815Z"
        },
        "id": "lGmt5vYyKNLT"
      },
      "outputs": [],
      "execution_count": null
    },
    {
      "cell_type": "code",
      "source": [
        "if TRAIN_MODEL:\n",
        "    wandb.finish()\n",
        "\n",
        "    train_loss = []\n",
        "    val_loss = []\n",
        "    for elem in trainer.state.log_history:\n",
        "        if \"loss\" in elem.keys():\n",
        "            train_loss.append(elem[\"loss\"])\n",
        "        if \"eval_loss\" in elem.keys():\n",
        "            val_loss.append(elem[\"eval_loss\"])\n",
        "\n",
        "    plot_loss(train_loss, val_loss)"
      ],
      "metadata": {
        "trusted": true,
        "execution": {
          "iopub.status.busy": "2025-01-08T18:56:11.188757Z",
          "iopub.execute_input": "2025-01-08T18:56:11.189019Z",
          "iopub.status.idle": "2025-01-08T18:56:13.65894Z",
          "shell.execute_reply.started": "2025-01-08T18:56:11.188994Z",
          "shell.execute_reply": "2025-01-08T18:56:13.658139Z"
        },
        "id": "BXTE_5vPKNLU"
      },
      "outputs": [],
      "execution_count": null
    },
    {
      "cell_type": "code",
      "source": [
        "if TRAIN_MODEL:\n",
        "    best_checkpoint_dir = trainer.state.best_model_checkpoint\n",
        "    print(f\"Best model checkpoint saved at: {best_checkpoint_dir}\")\n",
        "    best_model = trainer.model\n",
        "    best_model.save_pretrained(best_checkpoint_dir)\n",
        "    trainer.tokenizer.save_pretrained(best_checkpoint_dir)"
      ],
      "metadata": {
        "trusted": true,
        "execution": {
          "iopub.status.busy": "2025-01-08T19:25:43.886522Z",
          "iopub.execute_input": "2025-01-08T19:25:43.887399Z",
          "iopub.status.idle": "2025-01-08T19:25:44.213358Z",
          "shell.execute_reply.started": "2025-01-08T19:25:43.887363Z",
          "shell.execute_reply": "2025-01-08T19:25:44.212434Z"
        },
        "id": "GAttNlkKKNLU"
      },
      "outputs": [],
      "execution_count": null
    },
    {
      "cell_type": "markdown",
      "source": [
        "## 5. Loading Finetuned Model"
      ],
      "metadata": {
        "id": "p7y0kChFKNLU"
      }
    },
    {
      "cell_type": "code",
      "source": [
        "base_mode_url = \"/kaggle/input/llama-3.2/transformers/3b-instruct/1\"\n",
        "finetuned_model_path = \"/kaggle/input/finetuned-llm-one-word-prediction/llama-3.2-3b-it-programming-projects-V5\"\n",
        "\n",
        "tokenizer = AutoTokenizer.from_pretrained(base_mode_url)\n",
        "\n",
        "base_model_reload = AutoModelForSequenceClassification.from_pretrained(\n",
        "    base_mode_url,\n",
        "    low_cpu_mem_usage=True,\n",
        "    return_dict=True,\n",
        "    torch_dtype=torch.float16,\n",
        "    device_map=\"auto\",\n",
        "    trust_remote_code=True,\n",
        "    num_labels=len(classes),\n",
        "    id2label=id2class,\n",
        "    label2id=class2id,\n",
        "    problem_type=\"multi_label_classification\",\n",
        ")"
      ],
      "metadata": {
        "trusted": true,
        "id": "kvV1aUbLKNLU"
      },
      "outputs": [],
      "execution_count": null
    },
    {
      "cell_type": "code",
      "source": [
        "# Merge adapter with base model\n",
        "\n",
        "lora_model = PeftModel.from_pretrained(base_model_reload, finetuned_model_path)\n",
        "model = lora_model.merge_and_unload()"
      ],
      "metadata": {
        "trusted": true,
        "id": "j6lj2BRCKNLU"
      },
      "outputs": [],
      "execution_count": null
    },
    {
      "cell_type": "code",
      "source": [
        "# Load the pipeline\n",
        "pipe = pipeline(\"text-classification\", model=model, tokenizer=tokenizer, top_k=None) # top_k=None shows all predictions\n",
        "\n",
        "idx = 2\n",
        "row = df_test.iloc[idx]\n",
        "xml_code = row[\"xml_code\"]\n",
        "labels = row.iloc[7:-1]\n",
        "\n",
        "# Get predictions\n",
        "predictions = pipe(xml_code)\n",
        "print(predictions)\n",
        "print(f\"Ground truth:\\n {labels}\")"
      ],
      "metadata": {
        "trusted": true,
        "id": "pfIgWJPdKNLV"
      },
      "outputs": [],
      "execution_count": null
    },
    {
      "cell_type": "markdown",
      "source": [
        "###"
      ],
      "metadata": {
        "id": "KCYt-H7XKNLV"
      }
    },
    {
      "cell_type": "code",
      "source": [
        "complete_model = \"complete_model_5v\"\n",
        "model.save_pretrained(complete_model)\n",
        "tokenizer.save_pretrained(complete_model)\n",
        "\n",
        "model.push_to_hub(complete_model, use_temp_dir=False)"
      ],
      "metadata": {
        "trusted": true,
        "id": "JXdvPwnLKNLV"
      },
      "outputs": [],
      "execution_count": null
    }
  ]
}